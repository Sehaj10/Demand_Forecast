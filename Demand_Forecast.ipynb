{
 "cells": [
  {
   "cell_type": "code",
   "execution_count": null,
   "metadata": {},
   "outputs": [],
   "source": [
    "import pandas as pd\n",
    "import numpy as np\n",
    "import statsmodels.api as sm\n",
    "import datetime as dt\n",
    "import matplotlib.pyplot as plt\n",
    "from statsmodels.tsa.arima.model import ARIMA\n",
    "data = pd.read_csv('data_set_.csv')"
   ]
  },
  {
   "cell_type": "code",
   "execution_count": null,
   "metadata": {},
   "outputs": [],
   "source": [
    "# Convert the date variables to datetime format\n",
    "data[\"order_date\"] = pd.to_datetime(data[\"order_date\"], format=\"%d.%m.%Y\")\n",
    "data[\"requested_delivery_date\"] = pd.to_datetime(data[\"requested_delivery_date\"], format=\"%d.%m.%Y\")\n",
    "\n",
    "# Extract the month variable from the date variables\n",
    "data[\"Order Month\"] = data[\"order_date\"].dt.month\n",
    "data[\"Delivery Month\"] = data[\"requested_delivery_date\"].dt.month\n",
    "data['Order Quarter'] = data['order_date'].dt.quarter\n",
    "\n",
    "# Select the variables of interest\n",
    "df = data[[\"Order Month\", \"Delivery Month\", \"Customer Country Code\", \"Product Code\", \"order_type\", \"Customer Order Code\", \"value\", \"items\", \"Route\"]]\n",
    "\n",
    "# Remove any missing values or outliers\n",
    "df = df.dropna()\n",
    "\n",
    "# Calculate the number of days between order date and requested delivery date\n",
    "df['Delivery Time'] = (df['requested_delivery_date'] - df['order_date']).dt.days\n",
    "\n",
    "# Drop rows with invalid item values\n",
    "df.drop(df[df['items'] == \"\\\\N\"].index, inplace=True)\n"
   ]
  },
  {
   "cell_type": "code",
   "execution_count": null,
   "metadata": {},
   "outputs": [],
   "source": [
    "# Convert 'value' and 'items' columns to integer type\n",
    "df['value'] = df['value'].astype('int')\n",
    "df['items'] = df['items'].astype('int')\n",
    "\n",
    "# Calculate the total order value by multiplying price and quantity\n",
    "df['Total Value'] = df['value'] * df['items']\n"
   ]
  },
  {
   "cell_type": "code",
   "execution_count": null,
   "metadata": {},
   "outputs": [],
   "source": [
    "# Calculate the choice probability based on Delivery Time and Total Value\n",
    "df['Choice Probability'] = 1 / (1 + np.exp(-(-1.5 + 0.05 * df['Delivery Time'] + 0.001 * df['Total Value'])))\n",
    "\n",
    "# Define X and y\n",
    "X = df[['Order Month', 'Delivery Month']]\n",
    "y = df['Choice Probability']\n",
    "\n",
    "# Fit logistic regression model\n",
    "logit_model = sm.Logit(y, X)\n",
    "result = logit_model.fit()\n",
    "\n",
    "# Print summary of results\n",
    "print(result.summary2())\n",
    "\n",
    "# Calculate the 'x_values' based on the logistic regression coefficients\n",
    "df['x_values'] = df['Order Month'] * -0.2103 + df['Delivery Month'] * -0.5173\n",
    "\n",
    "# Calculate the predicted items using the 'x_values'\n",
    "df['predicted_items'] = df['x_values'] + 11\n",
    "\n",
    "# Perform SARIMAX modeling\n",
    "model = sm.tsa.SARIMAX(df[\"predicted_items\"], order=(1, 1, 1), seasonal_order=(1, 1, 1, 12))\n",
    "results = model.fit()\n",
    "\n",
    "# Print SARIMAX model summary\n",
    "print(results.summary())"
   ]
  }
 ],
 "metadata": {
  "language_info": {
   "name": "python"
  },
  "orig_nbformat": 4
 },
 "nbformat": 4,
 "nbformat_minor": 2
}
